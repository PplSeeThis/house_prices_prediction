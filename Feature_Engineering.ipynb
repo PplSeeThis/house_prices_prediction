{
 "cells": [
  {
   "cell_type": "code",
   "execution_count": null,
   "id": "initial_id",
   "metadata": {
    "collapsed": true
   },
   "outputs": [],
   "source": [
    "import pandas as pd\n",
    "import numpy as np\n",
    "from sklearn.preprocessing import StandardScaler\n",
    "\n",
    "# --- LOAD DATA ---\n",
    "df = pd.read_csv('data/kc_house_data.csv')\n",
    "\n",
    "# --- STEP 0: HANDLE OUTLIERS ---\n",
    "# We do this BEFORE all other transformations\n",
    "print(\"--- 0. HANDLING OUTLIERS ---\")\n",
    "print(f\"Number of rows before cleaning: {len(df)}\")\n",
    "\n",
    "# Define bounds for 'sqft_living'\n",
    "Q1 = df['sqft_living'].quantile(0.25)\n",
    "Q3 = df['sqft_living'].quantile(0.75)\n",
    "IQR = Q3 - Q1\n",
    "lower_bound = Q1 - 1.5 * IQR\n",
    "upper_bound = Q3 + 1.5 * IQR\n",
    "\n",
    "# Filter the DataFrame. .copy() is used to avoid Pandas warnings.\n",
    "df = df[(df['sqft_living'] >= lower_bound) & (df['sqft_living'] <= upper_bound)].copy()\n",
    "\n",
    "print(f\"Number of rows after cleaning: {len(df)}\\n\")\n",
    "\n",
    "# --- STEP 1: FEATURE CREATION ---\n",
    "# This step now works with the CLEANED data\n",
    "print(\"--- 1. CREATING NEW FEATURES ---\")\n",
    "df['date'] = pd.to_datetime(df['date'])\n",
    "df['sale_year'] = df['date'].dt.year\n",
    "df['house_age'] = df['sale_year'] - df['yr_built']\n",
    "# df['price_per_sqft'] = df['price'] / (df['sqft_living'] + 1) # This line was removed to prevent data leakage\n",
    "df = df.drop(['date', 'id'], axis=1) # id is also useless for the model\n",
    "print(\"New features created.\\n\")\n",
    "\n",
    "# --- STEP 2: ENCODING CATEGORICAL VARIABLES ---\n",
    "print(\"--- 2. ENCODING CATEGORICAL FEATURES ---\")\n",
    "# Here we use the df that is already cleaned and has new features\n",
    "df_processed = pd.get_dummies(df, columns=['zipcode'], prefix='zip')\n",
    "print(f\"Table shape changed from {df.shape} to {df_processed.shape}\\n\")\n",
    "\n",
    "# --- STEP 3: DATA NORMALIZATION (SCALING) ---\n",
    "print(\"--- 3. NORMALIZING NUMERICAL FEATURES ---\")\n",
    "# We don't want to normalize our target variable 'price'\n",
    "# or the OHE columns since they are already binary (0/1)\n",
    "cols_to_scale = [col for col in df_processed.columns if not col.startswith('zip_') and col != 'price']\n",
    "scaler = StandardScaler()\n",
    "df_processed[cols_to_scale] = scaler.fit_transform(df_processed[cols_to_scale])\n",
    "print(\"Normalization complete.\\n\")\n",
    "\n",
    "# --- RESULT ---\n",
    "df_final = df_processed\n",
    "print(\"Final view of data ready for modeling:\")\n",
    "display(df_final.head())\n",
    "\n",
    "# --- SAVE ---\n",
    "df_final.to_pickle('data/02_data_prepared.pkl')\n",
    "print(\"\\nPrepared data saved to 'data/02_data_prepared.pkl'\")"
   ]
  }
 ],
 "metadata": {
  "kernelspec": {
   "display_name": "Python 3",
   "language": "python",
   "name": "python3"
  },
  "language_info": {
   "codemirror_mode": {
    "name": "ipython",
    "version": 2
   },
   "file_extension": ".py",
   "mimetype": "text/x-python",
   "name": "python",
   "nbconvert_exporter": "python",
   "pygments_lexer": "ipython2",
   "version": "2.7.6"
  }
 },
 "nbformat": 4,
 "nbformat_minor": 5
}
