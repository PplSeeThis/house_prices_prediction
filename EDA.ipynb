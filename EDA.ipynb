{
 "cells": [
  {
   "metadata": {},
   "cell_type": "code",
   "outputs": [],
   "execution_count": null,
   "source": [
    "# Import necessary libraries\n",
    "import pandas as pd\n",
    "import numpy as np\n",
    "import matplotlib.pyplot as plt\n",
    "import seaborn as sns\n",
    "\n",
    "# Load the data. Make sure the file path is correct.\n",
    "df = pd.read_csv('data/kc_house_data.csv')\n",
    "\n",
    "# --- Initial Data Inspection ---\n",
    "print(\"First 5 rows of the dataset:\")\n",
    "display(df.head())\n",
    "\n",
    "print(\"\\nGeneral info about the dataset:\")\n",
    "df.info()\n",
    "\n",
    "# --- Correlation Matrix ---\n",
    "# Select only numeric columns for the correlation calculation\n",
    "numeric_cols = df.select_dtypes(include=np.number).columns\n",
    "corr_matrix = df[numeric_cols].corr()\n",
    "\n",
    "# Plot the heatmap\n",
    "plt.figure(figsize=(16, 12))\n",
    "sns.heatmap(corr_matrix, annot=True, cmap='coolwarm', fmt='.2f')\n",
    "plt.title('Correlation Matrix of Features')\n",
    "plt.show()\n",
    "\n",
    "# --- Visualizations ---\n",
    "# First, let's look at the distribution of our target variable - price\n",
    "plt.figure(figsize=(10, 6))\n",
    "sns.histplot(df['price'], bins=50, kde=True)\n",
    "plt.title('Distribution of House Prices')\n",
    "plt.xlabel('Price')\n",
    "plt.ylabel('Frequency')\n",
    "plt.show()\n",
    "\n",
    "# Scatter plot: area vs. price\n",
    "plt.figure(figsize=(10, 6))\n",
    "sns.scatterplot(x='sqft_living', y='price', data=df)\n",
    "plt.title('Price vs. Living Area')\n",
    "plt.xlabel('Living Area (sq. ft.)')\n",
    "plt.ylabel('Price')\n",
    "plt.show()\n",
    "\n",
    "# Scatter plot: year built vs. price\n",
    "plt.figure(figsize=(10, 6))\n",
    "sns.scatterplot(x='yr_built', y='price', data=df)\n",
    "plt.title('Price vs. Year Built')\n",
    "plt.xlabel('Year Built')\n",
    "plt.ylabel('Price')\n",
    "plt.show()"
   ],
   "id": "3370b905764273e6"
  }
 ],
 "metadata": {
  "kernelspec": {
   "display_name": "Python 3",
   "language": "python",
   "name": "python3"
  },
  "language_info": {
   "codemirror_mode": {
    "name": "ipython",
    "version": 2
   },
   "file_extension": ".py",
   "mimetype": "text/x-python",
   "name": "python",
   "nbconvert_exporter": "python",
   "pygments_lexer": "ipython2",
   "version": "2.7.6"
  }
 },
 "nbformat": 4,
 "nbformat_minor": 5
}
